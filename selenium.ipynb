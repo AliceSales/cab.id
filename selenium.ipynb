{
 "cells": [
  {
   "cell_type": "code",
   "execution_count": 1,
   "metadata": {},
   "outputs": [],
   "source": [
    "import os\n",
    "\n",
    "from bs4 import BeautifulSoup\n",
    "from selenium import webdriver\n",
    "from selenium.webdriver.common.by import By\n",
    "from selenium.webdriver.common.keys import Keys\n",
    "from selenium.webdriver.remote import webelement\n",
    "from selenium.webdriver.chrome.service import Service\n",
    "from selenium.webdriver.support.wait import WebDriverWait\n",
    "from selenium.webdriver.support import expected_conditions as EC\n",
    "from selenium.webdriver.common.action_chains import ActionChains\n",
    "from selenium.webdriver.chrome.service import Service as ChromeService\n",
    "from selenium.common.exceptions import (\n",
    "    NoSuchElementException,\n",
    "    StaleElementReferenceException,\n",
    "    ElementClickInterceptedException,\n",
    ")\n",
    "\n",
    "import string\n",
    "from functools import reduce\n",
    "from collections import Counter\n",
    "\n",
    "from os.path import abspath\n",
    "from selenium.webdriver.support.ui import Select\n",
    "from webdriver_manager.chrome import ChromeDriverManager\n",
    "from selenium.webdriver.chrome.webdriver import WebDriver"
   ]
  },
  {
   "cell_type": "code",
   "execution_count": 2,
   "metadata": {},
   "outputs": [
    {
     "name": "stderr",
     "output_type": "stream",
     "text": [
      "[nltk_data] Downloading package words to\n",
      "[nltk_data]     C:\\Users\\ROMILDO\\AppData\\Roaming\\nltk_data...\n",
      "[nltk_data]   Package words is already up-to-date!\n"
     ]
    },
    {
     "data": {
      "text/plain": [
       "True"
      ]
     },
     "execution_count": 2,
     "metadata": {},
     "output_type": "execute_result"
    }
   ],
   "source": [
    "import nltk\n",
    "nltk.download(\"words\")"
   ]
  },
  {
   "cell_type": "code",
   "execution_count": 3,
   "metadata": {},
   "outputs": [],
   "source": [
    "DEFAULT_DOWNLOAD_PATH = os.getcwd()\n",
    "def create_driver():\n",
    "    opts = webdriver.ChromeOptions()\n",
    "    prefs = {\n",
    "        \"download.default_directory\": os.path.join(os.getcwd(), DEFAULT_DOWNLOAD_PATH)\n",
    "    }\n",
    "    # Seta o user-agent do navegador\n",
    "    opts.add_experimental_option(\"prefs\", prefs)\n",
    "    opts.add_argument(\n",
    "        \"user-agent=Mozilla/5.0 (Windows NT 10.0; Win64; x64) AppleWebKit/537.36 (KHTML, like Gecko) Chrome/110.0.0.0 Safari/537.36\"\n",
    "    )\n",
    "\n",
    "    driver = webdriver.Chrome(\n",
    "        service=Service(ChromeDriverManager().install()),\n",
    "        options=opts,\n",
    "    )\n",
    "    driver.maximize_window()\n",
    "    return driver\n"
   ]
  },
  {
   "cell_type": "code",
   "execution_count": 4,
   "metadata": {},
   "outputs": [],
   "source": [
    "driver = create_driver()"
   ]
  },
  {
   "cell_type": "code",
   "execution_count": 5,
   "metadata": {},
   "outputs": [],
   "source": [
    "def find_element_with_implicit_wait(\n",
    "    by, value, driver: WebDriver = driver, timeout=20\n",
    ") -> webelement:\n",
    "    try:\n",
    "        return WebDriverWait(driver, timeout).until(\n",
    "            EC.presence_of_element_located((by, value))\n",
    "        )\n",
    "    except Exception as e:\n",
    "        print(e.__class__, e.__repr__())\n",
    "        return webelement()"
   ]
  },
  {
   "cell_type": "code",
   "execution_count": 6,
   "metadata": {},
   "outputs": [],
   "source": [
    "def open_google_images_reverse_search(\n",
    "    img_path,\n",
    "    driver=driver,\n",
    "    google_url=\"https://images.google.com.br/\",\n",
    "):\n",
    "    # Abre a página inicial\n",
    "    driver.get(google_url)\n",
    "\n",
    "    # Botão de upload\n",
    "    upload_button_classname = \"nDcEnd\"\n",
    "    find_element_with_implicit_wait(\n",
    "        By.CLASS_NAME, upload_button_classname\n",
    "    ).click()\n",
    "\n",
    "    # Acha o elemento de upload\n",
    "    upload_element_css_ref = \"input[type='file']\"\n",
    "    upload_element = find_element_with_implicit_wait(\n",
    "        By.CSS_SELECTOR, upload_element_css_ref\n",
    "    )\n",
    "\n",
    "    # PATH = r\"C:\\Users\\ROMILDO\\Desktop\\dev\\cab.id\\cab.id 2.0\\jeans_jacket.jpg\"\n",
    "    # Faz o upload da imagem\n",
    "    upload_element.send_keys(img_path)\n",
    "\n",
    "    XPATH = \"/html/body/c-wiz/div/div[2]/div/c-wiz/div/div[2]\"\n",
    "    \"/c-wiz/div/div/div/div[2]/div[1]/div/div/div\"\n",
    "    find_element_with_implicit_wait(By.XPATH, XPATH)\n",
    "\n",
    "    XPATH = \"/html/body/c-wiz/div/div[2]/div/c-wiz/div/div[2]\"\n",
    "    \"/c-wiz/div/div/div/div[2]/div[1]/div/div/div/div[1]/div/div\"\n",
    "    return find_element_with_implicit_wait(By.XPATH, XPATH)"
   ]
  },
  {
   "cell_type": "code",
   "execution_count": 7,
   "metadata": {},
   "outputs": [],
   "source": [
    "img_path = r\"C:\\Users\\ROMILDO\\Desktop\\dev\\cab.id\\cab.id 2.0\\jeans_jacket.jpg\"\n",
    "html_elements = open_google_images_reverse_search(img_path)"
   ]
  },
  {
   "cell_type": "code",
   "execution_count": 8,
   "metadata": {},
   "outputs": [],
   "source": [
    "soup = BeautifulSoup(html_elements.get_property(\"innerHTML\"), \"html.parser\")"
   ]
  },
  {
   "cell_type": "code",
   "execution_count": 9,
   "metadata": {},
   "outputs": [
    {
     "name": "stdout",
     "output_type": "stream",
     "text": [
      "https://encrypted-tbn1.gstatic.com/images?q=tbn:ANd9GcSEPuQ2hveLNgEFL6Q3QLS_QZB3apqWPUcS5r46NCaXKOOY1mv_\n",
      "https://encrypted-tbn1.gstatic.com/images?q=tbn:ANd9GcSEPuQ2hveLNgEFL6Q3QLS_QZB3apqWPUcS5r46NCaXKOOY1mv_\n",
      "https://encrypted-tbn2.gstatic.com/images?q=tbn:ANd9GcSfHPhPiNegjohpfOKq-8Dz6SsKvwOMNC9d7QPGGlvKq1e6D0hL\n",
      "https://encrypted-tbn0.gstatic.com/images?q=tbn:ANd9GcRG5R6ptSTJEQScvAFbwZV0xfqqbroazxyUuU-EW7laSxQrGz2X\n",
      "https://encrypted-tbn3.gstatic.com/images?q=tbn:ANd9GcRptaEoj5FnM34o9-SezKyXtTdPK_MFHSjSZA1ykjekn8KgBiLc\n",
      "https://encrypted-tbn0.gstatic.com/images?q=tbn:ANd9GcTS2hW3wIBxVsGHqY8hKoMCsjBrBEfNLlAYKmEMOKC8oJYAofv3\n",
      "https://encrypted-tbn3.gstatic.com/images?q=tbn:ANd9GcTue42CJcPpXAmHRUJ7cR-838cmZmO3VtNrkRbCUeYIlh00GdF3\n",
      "https://t0.gstatic.com/images?q=tbn:ANd9GcS0WEJ4E-t7OQ8fANzHStOc5ZEWtpj-L3DdQYCvmgDHdL5YyKyx\n",
      "https://encrypted-tbn3.gstatic.com/images?q=tbn:ANd9GcQOCV7cziQKEJcLHgeuamF0aMgfanfcHID_4tmiEUnYafb97kW6\n",
      "https://encrypted-tbn3.gstatic.com/images?q=tbn:ANd9GcSjQhVxDhmnIdXN-LH2Y8hYNOzt4jLhNWk3n7d-dm_hyWRWoTkb\n",
      "https://encrypted-tbn2.gstatic.com/images?q=tbn:ANd9GcQM4oeje18Iu1FvREHrrqD_6UNxNNR4QLYVRm-3HwGgNI547-Zo\n",
      "https://encrypted-tbn0.gstatic.com/images?q=tbn:ANd9GcS6LTiOi9KKDuR8dEwLklPlDKV2Cp8IjBrE5-U4TFYovMkm1ofj\n",
      "https://encrypted-tbn2.gstatic.com/images?q=tbn:ANd9GcQQslHgTtGt2Pojb7BCYK3zByBAz8DqpzmwMikVfURRfOQH_NKC\n",
      "https://encrypted-tbn1.gstatic.com/images?q=tbn:ANd9GcQDO2DHpUhPekvwnDB19IvqYbOiYHzUVM5KxxJGD90VZTMxfCkA\n",
      "https://encrypted-tbn3.gstatic.com/images?q=tbn:ANd9GcQ8a34o689qxuaFEpDAfg_dH0wLqnUq79pTdHCNfSui_4TE5VIo\n",
      "https://encrypted-tbn1.gstatic.com/images?q=tbn:ANd9GcS_rQKyUR5fpTryLh2EsURKNBk2IevADMMGM21tHH3Qa5XLIpAZ\n",
      "https://encrypted-tbn0.gstatic.com/images?q=tbn:ANd9GcTk5Em76lgORhbZeJjwKI0fBRpEyCY06Jv061XlEYMYgzQMzGPB\n",
      "https://encrypted-tbn2.gstatic.com/images?q=tbn:ANd9GcRNBgwOtmGe5Y79ugRRDXPyqUxyLafTSF29yfCduj08d-7NwsT9\n",
      "https://encrypted-tbn1.gstatic.com/images?q=tbn:ANd9GcT-YOHCcixIzeCoYcnuj-W-s-Tu9Pe7TmZNyHVsq7A0q9R84jd8\n",
      "https://encrypted-tbn0.gstatic.com/images?q=tbn:ANd9GcQf1Zi2TzrNmG5engScr6qCYfFtzgBW_Dci6itfOVvWoiVsjnXg\n",
      "https://encrypted-tbn3.gstatic.com/images?q=tbn:ANd9GcTza5-fkmmjYPi5Wx8A_fPR8xEPVFzbyqgLzA6AF8m8A9T42h0J\n",
      "https://encrypted-tbn3.gstatic.com/images?q=tbn:ANd9GcSrp5glhyk-AdmGg4CT3fLTJ_6HZrUyV_5j2kaYlXYQ96C7NkVp\n",
      "https://encrypted-tbn1.gstatic.com/images?q=tbn:ANd9GcR6RgbhDyHAD0ANhvema3U0zrCmkyqp7JbyBSx4yQF2LuBa1Ds2\n",
      "https://encrypted-tbn1.gstatic.com/images?q=tbn:ANd9GcQAs5MB3R9Ws-QXqXnoCwW5pLciIpSrn3t9ngvzEg0PLrSDlnSN\n",
      "https://encrypted-tbn1.gstatic.com/images?q=tbn:ANd9GcTLltbvLXVSuI3fvXVvgsqvlGbS_UtGtMLxyF0_Wj_FSGE6cIWf\n"
     ]
    }
   ],
   "source": [
    "filter_relevant_image_url = lambda url: url.startswith(\"https\") and \"favicon\" not in url\n",
    "\n",
    "for img in soup.findAll(\"img\"):\n",
    "        if filter_relevant_image_url(img[\"src\"]):\n",
    "            print(img[\"src\"])"
   ]
  },
  {
   "cell_type": "code",
   "execution_count": 10,
   "metadata": {},
   "outputs": [],
   "source": [
    "words = list({div.text for div in soup.findAll(\"div\") if len(div.text) > 2})"
   ]
  },
  {
   "cell_type": "code",
   "execution_count": 11,
   "metadata": {},
   "outputs": [],
   "source": [
    "\n",
    "\n",
    "s = string.ascii_uppercase\n",
    "\n",
    "end = reduce(\n",
    "    lambda a, b: a + b,\n",
    "    [Counter(words[i].split()) for i in range(len(words))]\n",
    ")"
   ]
  },
  {
   "cell_type": "code",
   "execution_count": 12,
   "metadata": {},
   "outputs": [],
   "source": [
    "import re\n",
    "\n",
    "\n",
    "def filtrar_chaves(dicionario):\n",
    "    \"\"\"\n",
    "    Filtra as chaves de um dicionário, encontrando apenas chaves válidas que contêm apenas letras.\n",
    "\n",
    "    Argumentos:\n",
    "      dicionario: O dicionário a ser filtrado.\n",
    "\n",
    "    Retorna:\n",
    "      Um novo dicionário com as chaves inválidas removidas.\n",
    "    \"\"\"\n",
    "    regex = re.compile(r\"^[a-zA-Z]+$\")\n",
    "    max_val = max(dicionario.values())\n",
    "    chaves_validas = {\n",
    "        chave: valor / max_val\n",
    "        for chave, valor in dicionario.items()\n",
    "        if regex.match(chave) and len(chave) > 2\n",
    "    }\n",
    "    return chaves_validas"
   ]
  },
  {
   "cell_type": "code",
   "execution_count": 13,
   "metadata": {},
   "outputs": [
    {
     "data": {
      "text/plain": [
       "[('Jeans', 0.8606965174129353),\n",
       " ('Denim', 0.5621890547263682),\n",
       " ('Jacket', 0.417910447761194),\n",
       " ('jeans', 0.39303482587064675),\n",
       " ('Feminina', 0.3880597014925373),\n",
       " ('Jaqueta', 0.29850746268656714),\n",
       " ('Azul', 0.2736318407960199),\n",
       " ('estoque', 0.23383084577114427),\n",
       " ('John', 0.22885572139303484),\n",
       " ('Jean', 0.21890547263681592),\n",
       " ('para', 0.15920398009950248),\n",
       " ('Casaco', 0.15422885572139303),\n",
       " ('Com', 0.14925373134328357),\n",
       " ('Trucker', 0.14427860696517414),\n",
       " ('Blue', 0.14427860696517414)]"
      ]
     },
     "execution_count": 13,
     "metadata": {},
     "output_type": "execute_result"
    }
   ],
   "source": [
    "sorted(filtrar_chaves(end).items(), key=lambda x: x[1], reverse=True)[:15]"
   ]
  },
  {
   "cell_type": "code",
   "execution_count": 19,
   "metadata": {},
   "outputs": [],
   "source": [
    "def extract_info_from_image(path, RANKING_RET: int = 20):\n",
    "    html_elements = open_google_images_reverse_search(path)\n",
    "    soup = BeautifulSoup(html_elements.get_property(\"innerHTML\"), \"html.parser\")\n",
    "    words = list({div.text for div in soup.findAll(\"div\") if len(div.text) > 2})\n",
    "    end = reduce(\n",
    "        lambda a, b: a + b, [Counter(words[i].split()) for i in range(len(words))]\n",
    "    )\n",
    "    return sorted(\n",
    "        filtrar_chaves(end).items(), key=lambda x: x[1], reverse=True\n",
    "    )[:RANKING_RET]"
   ]
  },
  {
   "cell_type": "code",
   "execution_count": 25,
   "metadata": {},
   "outputs": [
    {
     "data": {
      "text/plain": [
       "[('Shorts', 0.41106719367588934),\n",
       " ('Feminino', 0.37549407114624506),\n",
       " ('Rosa', 0.3438735177865613),\n",
       " ('Moda', 0.31225296442687744),\n",
       " ('Infantil', 0.2608695652173913),\n",
       " ('para', 0.1857707509881423),\n",
       " ('Comprar', 0.16600790513833993),\n",
       " ('estoque', 0.15019762845849802),\n",
       " ('Menina', 0.15019762845849802),\n",
       " ('Short', 0.1225296442687747),\n",
       " ('Com', 0.1225296442687747),\n",
       " ('Woven', 0.11857707509881422),\n",
       " ('baixos', 0.11067193675889328),\n",
       " ('RosaEm', 0.11067193675889328),\n",
       " ('Armour', 0.09090909090909091),\n",
       " ('Neon', 0.09090909090909091),\n",
       " ('Board', 0.08695652173913043),\n",
       " ('Loja', 0.08695652173913043),\n",
       " ('Feminina', 0.08300395256916997),\n",
       " ('Moletom', 0.06719367588932806)]"
      ]
     },
     "execution_count": 25,
     "metadata": {},
     "output_type": "execute_result"
    }
   ],
   "source": [
    "extract_info_from_image(r\"C:\\Users\\ROMILDO\\Desktop\\dev\\cab.id\\clothing-dataset-small\\train\\shorts\\74222128-e39b-4787-afb2-f88a92b8e537.jpg\")"
   ]
  },
  {
   "cell_type": "code",
   "execution_count": null,
   "metadata": {},
   "outputs": [],
   "source": []
  }
 ],
 "metadata": {
  "kernelspec": {
   "display_name": "Python 3",
   "language": "python",
   "name": "python3"
  },
  "language_info": {
   "codemirror_mode": {
    "name": "ipython",
    "version": 3
   },
   "file_extension": ".py",
   "mimetype": "text/x-python",
   "name": "python",
   "nbconvert_exporter": "python",
   "pygments_lexer": "ipython3",
   "version": "3.12.2"
  }
 },
 "nbformat": 4,
 "nbformat_minor": 2
}
